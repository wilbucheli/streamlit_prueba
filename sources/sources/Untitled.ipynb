{
 "cells": [
  {
   "cell_type": "code",
   "execution_count": 1,
   "id": "2540179d",
   "metadata": {},
   "outputs": [],
   "source": [
    "import pandas as pd\n",
    "from textblob import TextBlob"
   ]
  },
  {
   "cell_type": "code",
   "execution_count": 2,
   "id": "d05ae666",
   "metadata": {},
   "outputs": [],
   "source": [
    "df = pd.read_csv(\"the_office_script.csv\")\n",
    "\n",
    "df = df.iloc[:, 1:]"
   ]
  },
  {
   "cell_type": "code",
   "execution_count": 3,
   "id": "11914139",
   "metadata": {},
   "outputs": [],
   "source": [
    "df_episode = pd.DataFrame([[num, episode] for num, episode in enumerate(df.episode.unique())], columns = [\"pk_episode\", \"episode\"])\n",
    "\n",
    "df_episode.to_csv(\"the_office_episode_table.csv\", index = False)"
   ]
  },
  {
   "cell_type": "code",
   "execution_count": 4,
   "id": "89545d73",
   "metadata": {},
   "outputs": [],
   "source": [
    "df[\"script\"] = df[\"script\"].apply(lambda x : list(eval(x)))\n",
    "\n",
    "df = df.explode(\"script\", ignore_index = True)\n",
    "\n",
    "# polaridad y subjetividad\n",
    "pol = lambda x : TextBlob(x).sentiment.polarity\n",
    "sub = lambda x : TextBlob(x).sentiment.subjectivity\n",
    "\n",
    "df[\"polarity\"] = df[\"script\"].apply(pol)\n",
    "df[\"subjectivity\"] = df[\"script\"].apply(sub)\n",
    "\n",
    "df[\"episode\"] = df[\"episode\"].map({y : x for x, y in df_episode.values})\n",
    "\n",
    "df.to_csv(\"the_office_script_table.csv\", index = False)"
   ]
  },
  {
   "cell_type": "code",
   "execution_count": null,
   "id": "15527afe",
   "metadata": {},
   "outputs": [],
   "source": []
  },
  {
   "cell_type": "code",
   "execution_count": null,
   "id": "46df4199",
   "metadata": {},
   "outputs": [],
   "source": []
  }
 ],
 "metadata": {
  "kernelspec": {
   "display_name": "Python 3 (ipykernel)",
   "language": "python",
   "name": "python3"
  },
  "language_info": {
   "codemirror_mode": {
    "name": "ipython",
    "version": 3
   },
   "file_extension": ".py",
   "mimetype": "text/x-python",
   "name": "python",
   "nbconvert_exporter": "python",
   "pygments_lexer": "ipython3",
   "version": "3.9.12"
  }
 },
 "nbformat": 4,
 "nbformat_minor": 5
}
